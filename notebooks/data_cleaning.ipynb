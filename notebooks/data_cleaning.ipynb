{
 "cells": [
  {
   "cell_type": "code",
   "execution_count": 2,
   "id": "d9f9dc1c",
   "metadata": {},
   "outputs": [],
   "source": [
    "import pandas as pd\n",
    "import numpy as np"
   ]
  },
  {
   "cell_type": "code",
   "execution_count": 3,
   "id": "973d5eb7",
   "metadata": {},
   "outputs": [],
   "source": [
    "file = '../data/raw_data/immigration-and-protection-data-apr-jun-2025.xlsx'\n",
    "\n",
    "ACY_05M = pd.read_excel(file, sheet_name='ASY_05(M)')\n",
    "\n",
    "CoC_01 = pd.read_excel(file, sheet_name='CoC_01')\n",
    "CoC_02 = pd.read_excel(file, sheet_name='CoC_02')\n",
    "CoC_03 = pd.read_excel(file, sheet_name='CoC_03')\n",
    "CoC_04 = pd.read_excel(file, sheet_name='CoC_04')\n",
    "CoC_05 = pd.read_excel(file, sheet_name='CoC_05')\n",
    "CoC_06 = pd.read_excel(file, sheet_name='CoC_06')\n",
    "CoC_07 = pd.read_excel(file, sheet_name='CoC_07')\n",
    "\n",
    "FW_01 = pd.read_excel(file, sheet_name='FW_01')\n",
    "FW_02 = pd.read_excel(file, sheet_name='FW_02')\n",
    "FW_03 = pd.read_excel(file, sheet_name='FW_03')\n",
    "\n",
    "HR_01 = pd.read_excel(file, sheet_name='HR_01')\n",
    "HR_02 = pd.read_excel(file, sheet_name='HR_02')\n",
    "HR_03 = pd.read_excel(file, sheet_name='HR_03')\n",
    "\n"
   ]
  },
  {
   "cell_type": "code",
   "execution_count": null,
   "id": "f86cb26b",
   "metadata": {},
   "outputs": [],
   "source": [
    "ACY_05M.columns = ACY_05M.iloc[2]\n",
    "ACY_05M = ACY_05M[3:]\n",
    "ACY_05M_new = ACY_05M.drop(ACY_05M.columns[1], axis=1)\n",
    "ACY_05M_new = ACY_05M_new.reset_index(drop=True)\n",
    "ACY_05M_new.index = ACY_05M_new.index + 1\n",
    "ACY_05M_new.to_csv('../data/processed/ACY_05M.csv', index_label='id')\n"
   ]
  },
  {
   "cell_type": "code",
   "execution_count": null,
   "id": "86f38af7",
   "metadata": {},
   "outputs": [],
   "source": [
    "def clean_sheets(df, name, index_row=2, drop_col=3, output=False):\n",
    "    df.columns = df.iloc[index_row]\n",
    "    df = df[drop_col:]\n",
    "    df = df.reset_index(drop=True)\n",
    "    df.index = df.index + 1\n",
    "    if output:\n",
    "        return df\n",
    "    df.to_csv(f\"../data/processed/{name}.csv\", index_label='id')\n",
    "    \n"
   ]
  },
  {
   "cell_type": "code",
   "execution_count": null,
   "id": "21b88137",
   "metadata": {},
   "outputs": [
    {
     "data": {
      "text/html": [
       "<div>\n",
       "<style scoped>\n",
       "    .dataframe tbody tr th:only-of-type {\n",
       "        vertical-align: middle;\n",
       "    }\n",
       "\n",
       "    .dataframe tbody tr th {\n",
       "        vertical-align: top;\n",
       "    }\n",
       "\n",
       "    .dataframe thead th {\n",
       "        text-align: right;\n",
       "    }\n",
       "</style>\n",
       "<table border=\"1\" class=\"dataframe\">\n",
       "  <thead>\n",
       "    <tr style=\"text-align: right;\">\n",
       "      <th></th>\n",
       "      <th>CoC_01: NRPF - Destitution Change of Conditions Applications and Outcomes 1 - 5</th>\n",
       "      <th>Unnamed: 1</th>\n",
       "      <th>Unnamed: 2</th>\n",
       "      <th>Unnamed: 3</th>\n",
       "      <th>Unnamed: 4</th>\n",
       "      <th>Unnamed: 5</th>\n",
       "      <th>Unnamed: 6</th>\n",
       "      <th>Unnamed: 7</th>\n",
       "      <th>Unnamed: 8</th>\n",
       "      <th>Unnamed: 9</th>\n",
       "    </tr>\n",
       "  </thead>\n",
       "  <tbody>\n",
       "    <tr>\n",
       "      <th>0</th>\n",
       "      <td>Back to Contents</td>\n",
       "      <td>NaN</td>\n",
       "      <td>NaN</td>\n",
       "      <td>NaN</td>\n",
       "      <td>NaN</td>\n",
       "      <td>NaN</td>\n",
       "      <td>NaN</td>\n",
       "      <td>NaN</td>\n",
       "      <td>NaN</td>\n",
       "      <td>NaN</td>\n",
       "    </tr>\n",
       "    <tr>\n",
       "      <th>1</th>\n",
       "      <td>Quarter</td>\n",
       "      <td>Applications Received1</td>\n",
       "      <td>Of which: Pending2</td>\n",
       "      <td>Of Which had Decisions</td>\n",
       "      <td>Of which: Accepted</td>\n",
       "      <td>Of which: Rejected</td>\n",
       "      <td>Average Days to Decision3,4</td>\n",
       "      <td>Acceptance Rate5</td>\n",
       "      <td>Total Decisions In Quarter</td>\n",
       "      <td>Total End of Quarter WIP</td>\n",
       "    </tr>\n",
       "    <tr>\n",
       "      <th>2</th>\n",
       "      <td>2017 Q3</td>\n",
       "      <td>363</td>\n",
       "      <td>0</td>\n",
       "      <td>363</td>\n",
       "      <td>148</td>\n",
       "      <td>215</td>\n",
       "      <td>60</td>\n",
       "      <td>0.41</td>\n",
       "      <td>24</td>\n",
       "      <td>339</td>\n",
       "    </tr>\n",
       "    <tr>\n",
       "      <th>3</th>\n",
       "      <td>2017 Q4</td>\n",
       "      <td>742</td>\n",
       "      <td>0</td>\n",
       "      <td>742</td>\n",
       "      <td>402</td>\n",
       "      <td>340</td>\n",
       "      <td>20</td>\n",
       "      <td>0.55</td>\n",
       "      <td>906</td>\n",
       "      <td>175</td>\n",
       "    </tr>\n",
       "    <tr>\n",
       "      <th>4</th>\n",
       "      <td>2018 Q1</td>\n",
       "      <td>708</td>\n",
       "      <td>0</td>\n",
       "      <td>708</td>\n",
       "      <td>351</td>\n",
       "      <td>357</td>\n",
       "      <td>20</td>\n",
       "      <td>0.5</td>\n",
       "      <td>726</td>\n",
       "      <td>157</td>\n",
       "    </tr>\n",
       "    <tr>\n",
       "      <th>5</th>\n",
       "      <td>2018 Q2</td>\n",
       "      <td>729</td>\n",
       "      <td>0</td>\n",
       "      <td>729</td>\n",
       "      <td>351</td>\n",
       "      <td>378</td>\n",
       "      <td>33</td>\n",
       "      <td>0.49</td>\n",
       "      <td>667</td>\n",
       "      <td>219</td>\n",
       "    </tr>\n",
       "    <tr>\n",
       "      <th>6</th>\n",
       "      <td>2018 Q3</td>\n",
       "      <td>839</td>\n",
       "      <td>0</td>\n",
       "      <td>839</td>\n",
       "      <td>421</td>\n",
       "      <td>418</td>\n",
       "      <td>18</td>\n",
       "      <td>0.51</td>\n",
       "      <td>870</td>\n",
       "      <td>188</td>\n",
       "    </tr>\n",
       "    <tr>\n",
       "      <th>7</th>\n",
       "      <td>2018 Q4</td>\n",
       "      <td>916</td>\n",
       "      <td>0</td>\n",
       "      <td>916</td>\n",
       "      <td>524</td>\n",
       "      <td>392</td>\n",
       "      <td>21</td>\n",
       "      <td>0.58</td>\n",
       "      <td>841</td>\n",
       "      <td>263</td>\n",
       "    </tr>\n",
       "    <tr>\n",
       "      <th>8</th>\n",
       "      <td>2019 Q1</td>\n",
       "      <td>859</td>\n",
       "      <td>0</td>\n",
       "      <td>859</td>\n",
       "      <td>679</td>\n",
       "      <td>180</td>\n",
       "      <td>27</td>\n",
       "      <td>0.8</td>\n",
       "      <td>855</td>\n",
       "      <td>267</td>\n",
       "    </tr>\n",
       "    <tr>\n",
       "      <th>9</th>\n",
       "      <td>2019 Q2</td>\n",
       "      <td>978</td>\n",
       "      <td>0</td>\n",
       "      <td>978</td>\n",
       "      <td>787</td>\n",
       "      <td>191</td>\n",
       "      <td>34</td>\n",
       "      <td>0.81</td>\n",
       "      <td>804</td>\n",
       "      <td>441</td>\n",
       "    </tr>\n",
       "  </tbody>\n",
       "</table>\n",
       "</div>"
      ],
      "text/plain": [
       "  CoC_01: NRPF - Destitution Change of Conditions Applications and Outcomes 1 - 5  \\\n",
       "0                                   Back to Contents                                \n",
       "1                                            Quarter                                \n",
       "2                                            2017 Q3                                \n",
       "3                                            2017 Q4                                \n",
       "4                                            2018 Q1                                \n",
       "5                                            2018 Q2                                \n",
       "6                                            2018 Q3                                \n",
       "7                                            2018 Q4                                \n",
       "8                                            2019 Q1                                \n",
       "9                                            2019 Q2                                \n",
       "\n",
       "               Unnamed: 1          Unnamed: 2              Unnamed: 3  \\\n",
       "0                     NaN                 NaN                     NaN   \n",
       "1  Applications Received1  Of which: Pending2  Of Which had Decisions   \n",
       "2                     363                   0                     363   \n",
       "3                     742                   0                     742   \n",
       "4                     708                   0                     708   \n",
       "5                     729                   0                     729   \n",
       "6                     839                   0                     839   \n",
       "7                     916                   0                     916   \n",
       "8                     859                   0                     859   \n",
       "9                     978                   0                     978   \n",
       "\n",
       "           Unnamed: 4          Unnamed: 5                   Unnamed: 6  \\\n",
       "0                 NaN                 NaN                          NaN   \n",
       "1  Of which: Accepted  Of which: Rejected  Average Days to Decision3,4   \n",
       "2                 148                 215                           60   \n",
       "3                 402                 340                           20   \n",
       "4                 351                 357                           20   \n",
       "5                 351                 378                           33   \n",
       "6                 421                 418                           18   \n",
       "7                 524                 392                           21   \n",
       "8                 679                 180                           27   \n",
       "9                 787                 191                           34   \n",
       "\n",
       "         Unnamed: 7                  Unnamed: 8                Unnamed: 9  \n",
       "0               NaN                         NaN                       NaN  \n",
       "1  Acceptance Rate5  Total Decisions In Quarter  Total End of Quarter WIP  \n",
       "2              0.41                          24                       339  \n",
       "3              0.55                         906                       175  \n",
       "4               0.5                         726                       157  \n",
       "5              0.49                         667                       219  \n",
       "6              0.51                         870                       188  \n",
       "7              0.58                         841                       263  \n",
       "8               0.8                         855                       267  \n",
       "9              0.81                         804                       441  "
      ]
     },
     "execution_count": 105,
     "metadata": {},
     "output_type": "execute_result"
    }
   ],
   "source": [
    "CoC_01.head(10)\n",
    "clean_sheets(CoC_01, 'CoC_01')\n",
    "\n"
   ]
  },
  {
   "cell_type": "code",
   "execution_count": null,
   "id": "17f03cfd",
   "metadata": {},
   "outputs": [],
   "source": [
    "CoC_02.head(10)\n",
    "clean_sheets(CoC_02, 'CoC_02')"
   ]
  },
  {
   "cell_type": "code",
   "execution_count": null,
   "id": "9732cf57",
   "metadata": {},
   "outputs": [],
   "source": [
    "CoC_03.head(10)\n",
    "clean_sheets(CoC_03, 'CoC_03')"
   ]
  },
  {
   "cell_type": "code",
   "execution_count": null,
   "id": "8f0817bb",
   "metadata": {},
   "outputs": [],
   "source": [
    "CoC_04.head(10)\n",
    "clean_sheets(CoC_04, 'CoC_04')\n"
   ]
  },
  {
   "cell_type": "code",
   "execution_count": null,
   "id": "37734a7a",
   "metadata": {},
   "outputs": [],
   "source": [
    "CoC_05_new = clean_sheets(CoC_05, 'CoC_05', index_row=7, drop_col=8, output=True)\n",
    "CoC_05_new = CoC_05_new.rename(columns={'Row Labels': 'Quarter'})\n",
    "CoC_05_new.to_csv(\"../data/processed/CoC_05.csv\", index_label='id')\n",
    "#CoC_05_new = clean_sheets(CoC_05, 'CoC_05', index_row=7, drop_col=8, output=True)\n",
    "#CoC_05_new.head\n"
   ]
  },
  {
   "cell_type": "code",
   "execution_count": null,
   "id": "caa19340",
   "metadata": {},
   "outputs": [
    {
     "data": {
      "text/plain": [
       "(36478, 7)"
      ]
     },
     "execution_count": 103,
     "metadata": {},
     "output_type": "execute_result"
    }
   ],
   "source": [
    "CoC_06.head(10)\n",
    "clean_sheets(CoC_06, 'CoC_06', index_row=3, drop_col=4)"
   ]
  },
  {
   "cell_type": "code",
   "execution_count": 106,
   "id": "b53363ff",
   "metadata": {},
   "outputs": [],
   "source": [
    "CoC_07.head(10)\n",
    "clean_sheets(CoC_07, 'CoC_07', index_row=1, drop_col=2)"
   ]
  },
  {
   "cell_type": "code",
   "execution_count": null,
   "id": "20d3601d",
   "metadata": {},
   "outputs": [],
   "source": [
    "FW_01.head(10)\n",
    "clean_sheets(FW_01, 'FW_01')"
   ]
  },
  {
   "cell_type": "code",
   "execution_count": null,
   "id": "1599b98f",
   "metadata": {},
   "outputs": [],
   "source": [
    "FW_02.head(10)\n",
    "clean_sheets(FW_02, 'FW_02')"
   ]
  },
  {
   "cell_type": "code",
   "execution_count": null,
   "id": "e5385573",
   "metadata": {},
   "outputs": [],
   "source": [
    "FW_03.head(10)\n",
    "clean_sheets(FW_03, 'FW_03')"
   ]
  },
  {
   "cell_type": "code",
   "execution_count": null,
   "id": "83a6c7a2",
   "metadata": {},
   "outputs": [],
   "source": [
    "HR_01.head(10)\n",
    "clean_sheets(HR_01, 'HR_01')"
   ]
  },
  {
   "cell_type": "code",
   "execution_count": null,
   "id": "d0e4ffd1",
   "metadata": {},
   "outputs": [],
   "source": [
    "HR_02.head(10)\n",
    "clean_sheets(HR_02, 'HR_02')"
   ]
  },
  {
   "cell_type": "code",
   "execution_count": null,
   "id": "5804f3eb",
   "metadata": {},
   "outputs": [],
   "source": [
    "HR_03.head(10)\n",
    "clean_sheets(HR_03, 'HR_03')"
   ]
  }
 ],
 "metadata": {
  "kernelspec": {
   "display_name": "myenv",
   "language": "python",
   "name": "python3"
  },
  "language_info": {
   "codemirror_mode": {
    "name": "ipython",
    "version": 3
   },
   "file_extension": ".py",
   "mimetype": "text/x-python",
   "name": "python",
   "nbconvert_exporter": "python",
   "pygments_lexer": "ipython3",
   "version": "3.13.0"
  }
 },
 "nbformat": 4,
 "nbformat_minor": 5
}
