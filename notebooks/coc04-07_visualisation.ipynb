{
 "cells": [
  {
   "cell_type": "code",
   "execution_count": 2,
   "id": "4aecd3f8",
   "metadata": {},
   "outputs": [
    {
     "name": "stdout",
     "output_type": "stream",
     "text": [
      "\n",
      "CoC_04 shape: (32, 5)\n",
      "   id  Quarter  Male  Female  Recorded as Unknown\n",
      "0   1  2017 Q3   116     247                    0\n",
      "1   2  2017 Q4   206     536                    0\n",
      "2   3  2018 Q1   193     515                    0\n",
      "\n",
      "CoC_05 shape: (33, 6)\n",
      "   id  Quarter  Claim Pending  Claim Accepted  Claim Rejected  Grand Total\n",
      "0   1  2017 Q3              0             148             215          363\n",
      "1   2  2017 Q4              0             402             340          742\n",
      "2   3  2018 Q1              0             351             357          708\n",
      "\n",
      "CoC_06 shape: (36474, 8)\n",
      "   id Quarter Cohort Nationality  Gender Age Group          Status  \\\n",
      "0   1        2017 Q3    Pakistan  Female  Under 18  Claim Rejected   \n",
      "1   2        2017 Q3     Nigeria  Female  Under 18  Claim Rejected   \n",
      "2   3        2017 Q3     Nigeria  Female  41 to 50  Claim Rejected   \n",
      "\n",
      "   Days to Decision  Count  \n",
      "0              55.0      1  \n",
      "1               0.0      1  \n",
      "2              63.0      1  \n",
      "\n",
      "CoC_07 shape: (32, 7)\n",
      "   id  Quarter  Initial / Single Applications  Subsequent Applications  \\\n",
      "0   1  2017 Q3                            362                        1   \n",
      "1   2  2017 Q4                            692                       50   \n",
      "2   3  2018 Q1                            612                       96   \n",
      "\n",
      "   Total Applications1  \\\n",
      "0                  363   \n",
      "1                  742   \n",
      "2                  708   \n",
      "\n",
      "   % of applications that were not initial appplications10  \\\n",
      "0                                           0.002755         \n",
      "1                                           0.067385         \n",
      "2                                           0.135593         \n",
      "\n",
      "   % of rejections that were subsequently accepted11  \n",
      "0                                           0.000000  \n",
      "1                                           0.079412  \n",
      "2                                           0.162465  \n"
     ]
    }
   ],
   "source": [
    "import pandas as pd\n",
    "import matplotlib.pyplot as plt\n",
    "import seaborn as sns\n",
    "\n",
    "CoC_04 = pd.read_csv('../data/processed/CoC_04.csv')\n",
    "CoC_05 = pd.read_csv('../data/processed/CoC_05.csv')\n",
    "CoC_06 = pd.read_csv('../data/processed/CoC_06.csv')\n",
    "CoC_07 = pd.read_csv('../data/processed/CoC_07.csv')\n",
    "\n",
    "for name, df in [('CoC_04', CoC_04), ('CoC_05', CoC_05), ('CoC_06', CoC_06), ('CoC_07', CoC_07)]:\n",
    "    print(f\"\\n{name} shape: {df.shape}\")\n",
    "    print(df.head(3))\n"
   ]
  },
  {
   "cell_type": "code",
   "execution_count": null,
   "id": "9e192ffd",
   "metadata": {},
   "outputs": [],
   "source": []
  }
 ],
 "metadata": {
  "kernelspec": {
   "display_name": "myenv",
   "language": "python",
   "name": "python3"
  },
  "language_info": {
   "codemirror_mode": {
    "name": "ipython",
    "version": 3
   },
   "file_extension": ".py",
   "mimetype": "text/x-python",
   "name": "python",
   "nbconvert_exporter": "python",
   "pygments_lexer": "ipython3",
   "version": "3.13.0"
  }
 },
 "nbformat": 4,
 "nbformat_minor": 5
}
